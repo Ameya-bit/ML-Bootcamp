{
 "cells": [
  {
   "cell_type": "code",
   "execution_count": 43,
   "metadata": {},
   "outputs": [],
   "source": [
    "import os\n",
    "from openai import OpenAI\n",
    "import numpy as np\n",
    "\n",
    "OPEN_AI_KEY = os.getenv(\"OPENAI_API_KEY\")\n"
   ]
  },
  {
   "cell_type": "code",
   "execution_count": 44,
   "metadata": {},
   "outputs": [],
   "source": [
    "\n",
    "\n",
    "client = OpenAI(api_key=OPEN_AI_KEY)\n",
    "\n",
    "# declare embedding model\n",
    "response = client.embeddings.create(\n",
    "    input=\"Your text string goes here\",\n",
    "    model=\"text-embedding-3-small\"\n",
    ")\n",
    "\n"
   ]
  },
  {
   "cell_type": "code",
   "execution_count": 45,
   "metadata": {},
   "outputs": [
    {
     "name": "stdout",
     "output_type": "stream",
     "text": [
      "['Lionel Andrés Messi[note 1] (Spanish pronunciation', ': [ljoˈnel anˈdɾes ˈmesi] ⓘ; born 24 June 1987), a', 'lso known as Leo Messi, is an Argentine profession', 'al footballer who plays as a forward for and capta', 'ins both Major League Soccer club Inter Miami and ', 'the Argentina national team. Widely regarded as on', 'e of the greatest players of all time, Messi set n', 'umerous records for individual accolades won throu', 'ghout his professional footballing career such as ', \"eight Ballon d'Or awards and eight times being nam\", \"ed the world's best player by FIFA.[note 2] He is \", 'the most decorated player in the history of profes', 'sional football having won 45 team trophies,[note ', '3] including twelve league titles, four UEFA Champ', 'ions Leagues, two Copa Américas, and one FIFA Worl', 'd Cup. Messi holds the records for most European G', 'olden Shoes (6), most goals for a single club (672', ', with Barcelona), most goals (474), hat-tricks (3', '6) and assists (192) in La Liga, most matches play', 'ed (39), assists (18) and goal contributions (34) ', 'in the Copa América, most matches played (26) and ', 'goal contributions (21) in the World Cup, most int', 'ernational appearances (189) and international goa', 'ls (112) by a South American male, and the second-', 'most in the latter category outright. A prolific g', 'oalscorer and creative playmaker, Messi has scored', ' over 850 senior career goals for club and country', '.\\n\\nBorn in Rosario, Argentina, Messi relocated to ', 'Spain to join Barcelona at age 13, and made his co', 'mpetitive debut at age 17 in October 2004. He esta', 'blished himself as an integral player for the club', ' within the next three years, and in his first uni', 'nterrupted season in 2008–09 helped Barcelona achi', 'eve the first treble in Spanish football; that yea', 'r, aged 22, Messi won the first of his four consec', \"utive Ballons d'Or, the first player to win it fou\", 'r times. During the 2011–12 season, he set La Liga', ' and European records for most goals in a season, ', \"while establishing himself as Barcelona's all-time\", ' top scorer. The following two seasons, he finishe', \"d second for the Ballon d'Or behind Cristiano Rona\", 'ldo, his perceived career rival, before regaining ', 'his best form during the 2014–15 campaign, where h', 'e became the all-time top scorer in La Liga, led B', 'arcelona to a historic second treble, and won a fi', \"fth Ballon d'Or in 2015. Messi assumed captaincy o\", 'f Barcelona in 2018, and won a record sixth Ballon', \" d'Or in 2019. During his overall tenure at Barcel\", 'ona, Messi won a club-record 34 trophies, includin', 'g ten La Liga titles and four UEFA Champions Leagu', 'es, among others. He signed for French club Paris ', 'Saint-Germain in August 2021, where he would win t', 'he Ligue 1 title during both of his seasons there.', ' Messi joined American club Inter Miami in July 20', '23, and set a new mark for most goals scored for t', 'he club by his second season.\\n\\nAn Argentine intern', \"ational, Messi is the national team's all-time lea\", 'ding goalscorer and most-capped player. His style ', 'of play as a diminutive, left-footed dribbler drew', ' career-long comparisons with compatriot Diego Mar', 'adona, who described Messi as his successor. At th', 'e youth level, he won the 2005 FIFA World Youth Ch', 'ampionship and gold medal at the 2008 Summer Olymp', 'ics. After his senior debut in 2005, Messi became ', 'the youngest Argentine to play and score in a Worl', \"d Cup in 2006. He assumed the national team's capt\", 'aincy in 2011, and then led Argentina to three con', 'secutive finals: the 2014 FIFA World Cup, the 2015', ' Copa América and the Copa América Centenario, all', ' of which they would lose. After initially announc', 'ing his international retirement in 2016, he retur', 'ned to help his country narrowly qualify for the 2', '018 FIFA World Cup, which they would again exit ea', 'rly. Messi and the national team finally broke Arg', \"entina's 28-year trophy drought with a victory in \", 'the 2021 Copa América, where he was named the tour', \"nament's best player and which later helped him wi\", \"n his seventh Ballon d'Or that year. He then led A\", 'rgentina to win the 2022 FIFA World Cup, his count', \"ry's third overall world championship and first in\", ' 36 years. This followed with a record-extending e', \"ighth Ballon d'Or in 2023. A second Copa América v\", 'ictory with Messi as captain came in 2024.\\n\\nMessi ', 'has endorsed sportswear company Adidas since 2006.', \" According to France Football, he was the world's \", 'highest-paid footballer for five years out of six ', \"between 2009 and 2014, and was ranked the world's \", 'highest-paid athlete by Forbes in 2019 and 2022. M', \"essi was among Time's 100 most influential people \", 'in the world in 2011, 2012, and 2023. In 2020 and ', '2023, he was named the Laureus World Sportsman of ', 'the Year, the first team-sport athlete to win it. ', \"In 2020, Messi was named to the Ballon d'Or Dream \", 'Team and became the second footballer and second t', 'eam-sport athlete to surpass $1 billion in career ', 'earnings.\\n\\nEarly life\\nMessi was born on 24 June 19', '87 in Rosario, Santa Fe Province,[21] the third of', ' four children of Jorge Messi, a steel factory man', 'ager, and his wife Celia Cuccittini, who worked in', \" a magnet manufacturing workshop. On his father's \", 'side, he is of Italian and Spanish descent, the gr', 'eat-grandson of immigrants from the north-central ', 'Adriatic Marche region of Italy, and on his mother', \"'s side, he has primarily Italian ancestry.[3] Gro\", 'wing up in a tight-knit, football-loving family, \"', 'Leo\" developed a passion for the sport from an ear', 'ly age, playing constantly with his older brothers', ', Rodrigo and Matías, and his cousins, Maximiliano', ' and Emanuel Biancucchi, both of whom became profe', 'ssional footballers.[22] At the age of four he joi', 'ned local club Grandoli, where he was coached by h', 'is father, though his earliest influence as a play', 'er came from his maternal grandmother, Celia, who ', 'accompanied him to training and matches.[23] He wa', 's greatly affected by her death, shortly before hi', 's eleventh birthday; since then, as a devout Catho', 'lic, he has celebrated his goals by looking up and', ' pointing to the sky in tribute to his grandmother', '.[24][25]']\n"
     ]
    }
   ],
   "source": [
    "# chunk the txt into 50 character chunks\n",
    "query = \"What is Messi's name?\"\n",
    "\n",
    "def chunk_text(text, chunk_size):\n",
    "    return [text[i:i + chunk_size] for i in range(0, len(text), chunk_size)]\n",
    "\n",
    "f = open(\"messi.txt\", encoding='utf8')\n",
    "sentences = chunk_text(f.read(), 50)\n",
    "print(sentences)"
   ]
  },
  {
   "cell_type": "code",
   "execution_count": 46,
   "metadata": {},
   "outputs": [],
   "source": [
    "# use embedding model on query and txt\n",
    "query_embedding = client.embeddings.create(\n",
    "    input=query,\n",
    "    model=\"text-embedding-3-small\"\n",
    ").data[0].embedding\n",
    "\n",
    "resource_responses = client.embeddings.create(\n",
    "    input=sentences,\n",
    "    model=\"text-embedding-3-small\"\n",
    ").data\n"
   ]
  },
  {
   "cell_type": "code",
   "execution_count": 47,
   "metadata": {},
   "outputs": [],
   "source": [
    "\n",
    "# similarity function\n",
    "def cosine_simularity(A, B):\n",
    "    return np.dot(A,B) / ( np.linalg.norm(A) * np.linalg.norm(B) )\n",
    "\n",
    "simularities = {}\n"
   ]
  },
  {
   "cell_type": "code",
   "execution_count": 48,
   "metadata": {},
   "outputs": [
    {
     "name": "stdout",
     "output_type": "stream",
     "text": [
      "[0.5716238837863366, 0.5979521272010121, 0.636203199617289, 0.6587311758914197, 0.6664274657421646]\n",
      "answer the question: What is Messi's name?. Given this information (please cite the information used): ics. After his senior debut in 2005, Messi became  earnings.\n",
      "\n",
      "Early life\n",
      "Messi was born on 24 June 19 ational, Messi is the national team's all-time lea Lionel Andrés Messi[note 1] (Spanish pronunciation lso known as Leo Messi, is an Argentine profession\n"
     ]
    }
   ],
   "source": [
    "\n",
    "# find the top 5 most similar sentences\n",
    "for i in range(len(resource_responses)): \n",
    "    embedding = resource_responses[i].embedding\n",
    "    resource_embedding = np.array(embedding)\n",
    "    simularity = cosine_simularity(query_embedding, resource_embedding)\n",
    "    simularities[simularity] = sentences[i]\n",
    "\n",
    "sorted_simularities = sorted(list(simularities.keys()))\n",
    "length = len(sorted_simularities)\n",
    "print(sorted_simularities[length-5:length])\n",
    "\n",
    "top_simularities = []\n",
    "\n",
    "for i in range(length-5, length):\n",
    "    top_simularities.append(simularities[sorted_simularities[i]])\n",
    "\n",
    "rag_query = \"answer the question: \" + query + \". Given this information (please cite the information used): \" + \" \".join(top_simularities)\n",
    "print(rag_query)\n"
   ]
  },
  {
   "cell_type": "code",
   "execution_count": 49,
   "metadata": {},
   "outputs": [
    {
     "name": "stdout",
     "output_type": "stream",
     "text": [
      "Messi's full name is Lionel Andrés Messi. This information is derived from the text you provided, which states: \"Lionel Andrés Messi... is also known as Leo Messi, is an Argentine professional.\"\n"
     ]
    }
   ],
   "source": [
    "from openai import OpenAI\n",
    "client = OpenAI()\n",
    "\n",
    "# create completion\n",
    "completion = client.chat.completions.create(\n",
    "    model=\"gpt-4o-mini\",\n",
    "    messages=[\n",
    "        {\"role\": \"system\", \"content\": \"You are a helpful assistant.\"},\n",
    "        {\n",
    "            \"role\": \"user\",\n",
    "            \"content\": rag_query\n",
    "        }\n",
    "    ]\n",
    ")\n",
    "\n",
    "print(completion.choices[0].message.content)"
   ]
  }
 ],
 "metadata": {
  "kernelspec": {
   "display_name": "Python 3",
   "language": "python",
   "name": "python3"
  },
  "language_info": {
   "codemirror_mode": {
    "name": "ipython",
    "version": 3
   },
   "file_extension": ".py",
   "mimetype": "text/x-python",
   "name": "python",
   "nbconvert_exporter": "python",
   "pygments_lexer": "ipython3",
   "version": "3.12.1"
  }
 },
 "nbformat": 4,
 "nbformat_minor": 2
}
